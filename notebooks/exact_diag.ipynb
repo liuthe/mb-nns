{
 "cells": [
  {
   "cell_type": "code",
   "execution_count": 3,
   "metadata": {},
   "outputs": [],
   "source": [
    "from typing import Optional, Tuple\n",
    "import numpy as np\n",
    "import matplotlib.pyplot as plt\n",
    "import scipy.sparse as sp\n",
    "from scipy.sparse.linalg import eigsh\n",
    "from itertools import combinations"
   ]
  },
  {
   "cell_type": "code",
   "execution_count": 2,
   "metadata": {},
   "outputs": [],
   "source": [
    "def get_state_index(state: int, index: int) -> int:\n",
    "    \"\"\"获得一个整数某位置处的二进制值\"\"\"\n",
    "    mask = 1 << index\n",
    "    return (state & mask) >> index\n",
    "\n",
    "\n",
    "def flip_state(state: int, index: int) -> int:\n",
    "    \"\"\"翻转一个整数某位置处的二进制值\"\"\"\n",
    "    mask = 1 << index\n",
    "    return state ^ mask\n",
    "\n",
    "def count_ones(state: int, start: int, end: int) -> int:\n",
    "    \"\"\"计算一个整数某一段区间内的二进制值为1的个数\"\"\"\n",
    "    count = 0\n",
    "    for i in range(start, end+1):\n",
    "        count += get_state_index(state, i)\n",
    "    return count"
   ]
  },
  {
   "cell_type": "markdown",
   "metadata": {},
   "source": [
    "# This is for the free part"
   ]
  },
  {
   "cell_type": "code",
   "execution_count": 7,
   "metadata": {},
   "outputs": [],
   "source": [
    "L = 4\n",
    "N = L * L\n",
    "Nup = 7\n",
    "state_list = [sum([1 << i for i in c]) for c in combinations(range(N), Nup)]\n",
    "state_list.sort()\n",
    "\n",
    "state_dict = {state: idx for idx, state in enumerate(state_list)}"
   ]
  },
  {
   "cell_type": "code",
   "execution_count": 8,
   "metadata": {},
   "outputs": [],
   "source": [
    "t = 1\n",
    "Nh = len(state_list)\n",
    "H_free_up = sp.lil_matrix((Nh, Nh))\n",
    "for i, state in enumerate(state_list):\n",
    "    for ns in range(N):\n",
    "        nr = ns // L\n",
    "        nc = ns % L\n",
    "        nsxup = nr * L + np.mod(nc + 1, L)\n",
    "        nsyup = np.mod(nr + 1, L) * L + nc\n",
    "\n",
    "        statens = get_state_index(state, ns)\n",
    "        statensxup = get_state_index(state, nsxup)\n",
    "        statensyup = get_state_index(state, nsyup)\n",
    "        if (statens, statensxup) == (1, 0) or (statens, statensxup) == (0, 1):\n",
    "            stateflip = flip_state(state, ns)  # flip the ns site\n",
    "            stateflipxup = flip_state(stateflip, nsxup)  # flip the nsxup site\n",
    "\n",
    "            startid = min(ns, nsxup)\n",
    "            endid = max(ns, nsxup)\n",
    "            phase = (-1) ** (count_ones(state, startid, endid) % 2)\n",
    "\n",
    "            #H_free_up[i, state_list.index(stateflipxup)] += -t * phase\n",
    "            H_free_up[i, state_dict[stateflipxup]] += -t * phase\n",
    "        if (statens, statensyup) == (1, 0) or (statens, statensyup) == (0, 1):\n",
    "            stateflip = flip_state(state, ns)\n",
    "            stateflipyup = flip_state(stateflip, nsyup)\n",
    "\n",
    "            startid = min(ns, nsyup)\n",
    "            endid = max(ns, nsyup)\n",
    "            phase = (-1) ** (count_ones(state, startid, endid) % 2)\n",
    "\n",
    "            #H_free_up[i, state_list.index(stateflipyup)] += -t * phase\n",
    "            H_free_up[i, state_dict[stateflipyup]] += -t * phase\n",
    "H_free_up = H_free_up.tocsr()"
   ]
  },
  {
   "cell_type": "code",
   "execution_count": 80,
   "metadata": {},
   "outputs": [
    {
     "data": {
      "text/plain": [
       "<matplotlib.image.AxesImage at 0x7d52c35be400>"
      ]
     },
     "execution_count": 80,
     "metadata": {},
     "output_type": "execute_result"
    },
    {
     "data": {
      "image/png": "[encoded data removed]",
      "text/plain": [
       "<Figure size 480x480 with 1 Axes>"
      ]
     },
     "metadata": {},
     "output_type": "display_data"
    }
   ],
   "source": [
    "plt.matshow(H_free_up)"
   ]
  },
  {
   "cell_type": "code",
   "execution_count": 9,
   "metadata": {},
   "outputs": [
    {
     "name": "stdout",
     "output_type": "stream",
     "text": [
      "最小特征值: -12.000000000000005\n"
     ]
    }
   ],
   "source": [
    "# 计算H_free_up的最小特征值\n",
    "# k=1 表示我们只需要计算最小的一个特征值\n",
    "# which='SA' 表示找的是特征值中的最小值 (Smallest Algebraic)\n",
    "eigenvalues, eigenvectors = eigsh(H_free_up, k=1, which='SA')\n",
    "\n",
    "# 提取最小特征值\n",
    "min_eigenvalue = eigenvalues[0]\n",
    "\n",
    "print(\"最小特征值:\", min_eigenvalue)"
   ]
  },
  {
   "cell_type": "code",
   "execution_count": 11,
   "metadata": {},
   "outputs": [],
   "source": [
    "#eigvals_all = np.linalg.eigvalsh(H_free_up)"
   ]
  },
  {
   "cell_type": "code",
   "execution_count": 10,
   "metadata": {},
   "outputs": [],
   "source": [
    "#eigvals = eigvals_all[:]\n",
    "#print(eigvals)"
   ]
  },
  {
   "cell_type": "code",
   "execution_count": 18,
   "metadata": {},
   "outputs": [],
   "source": [
    "H_classical = np.zeros((N, N))\n",
    "for ns in range(N):\n",
    "    nr = ns // L\n",
    "    nc = ns % L\n",
    "    nsxup = nr * L + np.mod(nc + 1, L)\n",
    "    nsyup = np.mod(nr + 1, L) * L + nc\n",
    "    H_classical[ns, nsxup] -= t\n",
    "    H_classical[ns, nsyup] -= t\n",
    "H_classical = H_classical + H_classical.T"
   ]
  },
  {
   "cell_type": "code",
   "execution_count": 19,
   "metadata": {},
   "outputs": [
    {
     "data": {
      "text/plain": [
       "<matplotlib.image.AxesImage at 0x7d52d979f9a0>"
      ]
     },
     "execution_count": 19,
     "metadata": {},
     "output_type": "execute_result"
    },
    {
     "data": {
      "image/png": "[encoded data removed]",
      "text/plain": [
       "<Figure size 480x480 with 1 Axes>"
      ]
     },
     "metadata": {},
     "output_type": "display_data"
    }
   ],
   "source": [
    "import matplotlib.pyplot as plt\n",
    "plt.matshow(H_classical)"
   ]
  },
  {
   "cell_type": "code",
   "execution_count": 20,
   "metadata": {},
   "outputs": [
    {
     "data": {
      "text/plain": [
       "array([-4.00000000e+00, -2.00000000e+00, -2.00000000e+00, -2.00000000e+00,\n",
       "       -2.00000000e+00, -2.77863923e-16, -1.97554906e-16, -7.36344679e-17,\n",
       "       -6.17481140e-17,  4.96303364e-17,  1.25638136e-16,  2.00000000e+00,\n",
       "        2.00000000e+00,  2.00000000e+00,  2.00000000e+00,  4.00000000e+00])"
      ]
     },
     "execution_count": 20,
     "metadata": {},
     "output_type": "execute_result"
    }
   ],
   "source": [
    "eig_single = np.linalg.eigvals(H_classical)\n",
    "eig_single.sort()\n",
    "eig_single"
   ]
  },
  {
   "cell_type": "code",
   "execution_count": 124,
   "metadata": {},
   "outputs": [
    {
     "data": {
      "text/plain": [
       "0.74175"
      ]
     },
     "execution_count": 124,
     "metadata": {},
     "output_type": "execute_result"
    }
   ],
   "source": [
    "11.868/16"
   ]
  },
  {
   "cell_type": "code",
   "execution_count": 13,
   "metadata": {},
   "outputs": [],
   "source": [
    "H_free = sp.kron(H_free_up, sp.eye(Nh)) + sp.kron(sp.eye(Nh), H_free_up)"
   ]
  },
  {
   "cell_type": "markdown",
   "metadata": {},
   "source": [
    "# The interaction part"
   ]
  },
  {
   "cell_type": "code",
   "execution_count": 14,
   "metadata": {},
   "outputs": [],
   "source": [
    "stateaor_list = [bin(state_up & state_down)[2:] for state_up in state_list for state_down in state_list]\n",
    "count_list = [stateaor.count('1') for stateaor in stateaor_list]\n",
    "count_array = np.array(count_list)"
   ]
  },
  {
   "cell_type": "code",
   "execution_count": 15,
   "metadata": {},
   "outputs": [],
   "source": [
    "U = 8 * t\n",
    "H_int = U * sp.diags(count_array)"
   ]
  },
  {
   "cell_type": "code",
   "execution_count": 104,
   "metadata": {},
   "outputs": [
    {
     "data": {
      "text/plain": [
       "1"
      ]
     },
     "execution_count": 104,
     "metadata": {},
     "output_type": "execute_result"
    }
   ],
   "source": [
    "3 & 5"
   ]
  },
  {
   "cell_type": "markdown",
   "metadata": {},
   "source": [
    "# Total energy"
   ]
  },
  {
   "cell_type": "code",
   "execution_count": 138,
   "metadata": {},
   "outputs": [
    {
     "name": "stdout",
     "output_type": "stream",
     "text": [
      "ground state energy for the free part: -12.000000000000007\n"
     ]
    }
   ],
   "source": [
    "eigenfree, eigenvecfree = eigsh(H_free, k=1, which='SA')\n",
    "min_eigenfree = eigenfree[0]\n",
    "\n",
    "print(\"ground state energy for the free part:\", min_eigenfree)"
   ]
  },
  {
   "cell_type": "code",
   "execution_count": 107,
   "metadata": {},
   "outputs": [
    {
     "data": {
      "text/plain": [
       "89"
      ]
     },
     "execution_count": 107,
     "metadata": {},
     "output_type": "execute_result"
    }
   ],
   "source": [
    "-15 + 13*U"
   ]
  },
  {
   "cell_type": "code",
   "execution_count": 16,
   "metadata": {},
   "outputs": [],
   "source": [
    "H = H_free + H_int"
   ]
  },
  {
   "cell_type": "code",
   "execution_count": 17,
   "metadata": {},
   "outputs": [
    {
     "ename": "",
     "evalue": "",
     "output_type": "error",
     "traceback": [
      "\u001b[1;31mThe Kernel crashed while executing code in the current cell or a previous cell. \n",
      "\u001b[1;31mPlease review the code in the cell(s) to identify a possible cause of the failure. \n",
      "\u001b[1;31mClick <a href='https://aka.ms/vscodeJupyterKernelCrash'>here</a> for more info. \n",
      "\u001b[1;31mView Jupyter <a href='command:jupyter.viewOutput'>log</a> for further details."
     ]
    }
   ],
   "source": [
    "eigen, eigenvec = eigsh(H, k=1, which='SA')\n",
    "min_eigen = eigen[0]\n",
    "\n",
    "print(\"ground state energy:\", min_eigen)"
   ]
  },
  {
   "cell_type": "code",
   "execution_count": 122,
   "metadata": {},
   "outputs": [
    {
     "data": {
      "text/plain": [
       "84.67850286678798"
      ]
     },
     "execution_count": 122,
     "metadata": {},
     "output_type": "execute_result"
    }
   ],
   "source": [
    "# Compute the min eigenvalue\n",
    "eigvals = np.linalg.eigvalsh(H)\n",
    "eigvals.sort()\n",
    "eigvals[0]"
   ]
  },
  {
   "cell_type": "code",
   "execution_count": 123,
   "metadata": {},
   "outputs": [
    {
     "data": {
      "text/plain": [
       "5.292406429174249"
      ]
     },
     "execution_count": 123,
     "metadata": {},
     "output_type": "execute_result"
    }
   ],
   "source": [
    "eigvals[0]/L**2"
   ]
  }
 ],
 "metadata": {
  "kernelspec": {
   "display_name": "cs189fa23",
   "language": "python",
   "name": "python3"
  },
  "language_info": {
   "codemirror_mode": {
    "name": "ipython",
    "version": 3
   },
   "file_extension": ".py",
   "mimetype": "text/x-python",
   "name": "python",
   "nbconvert_exporter": "python",
   "pygments_lexer": "ipython3",
   "version": "3.9.13"
  }
 },
 "nbformat": 4,
 "nbformat_minor": 2
}
